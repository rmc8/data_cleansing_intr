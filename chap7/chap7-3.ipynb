{
 "cells": [
  {
   "cell_type": "markdown",
   "metadata": {},
   "source": [
    "### 7-3．深層学習のためのデータ準備\n",
    "#### 全記事の分かち書き"
   ]
  },
  {
   "cell_type": "code",
   "execution_count": 1,
   "metadata": {},
   "outputs": [
    {
     "name": "stdout",
     "output_type": "stream",
     "text": [
      "Collecting janome\n",
      "\u001b[?25l  Downloading https://files.pythonhosted.org/packages/a0/af/a57956e98b26beebc4efe20c3f5b482f0b4e091f546bfd90a96678da2f1c/Janome-0.3.7-py27.py3-none-any.whl (20.7MB)\n",
      "\u001b[K    100% |████████████████████████████████| 20.7MB 102kB/s \n",
      "\u001b[?25hInstalling collected packages: janome\n",
      "Successfully installed janome-0.3.7\n"
     ]
    }
   ],
   "source": [
    "# Janomeのインストール\n",
    "!pip install janome"
   ]
  },
  {
   "cell_type": "code",
   "execution_count": 2,
   "metadata": {},
   "outputs": [],
   "source": [
    "import os\n",
    "import re\n",
    "from janome.tokenizer import Tokenizer\n",
    "\n",
    "# 記事フォルダの指定\n",
    "dirs = ['it-life-hack', 'movie-enter']\n",
    "\n",
    "# 単語とラベルを格納するリストを生成\n",
    "wakati = [] # 説明変数\n",
    "label = [] # 目的変数\n",
    "\n",
    "# 分かち書きオブジェクト生成\n",
    "t = Tokenizer(wakati=True)\n",
    "\n",
    "# 各フォルダのファイルを1つずつ読み込んで表示\n",
    "for i, d in enumerate(dirs):\n",
    "    # ファイルの取得\n",
    "    files = os.listdir('./data/' + d)\n",
    "    \n",
    "    for file in files:\n",
    "        # ファイルオープンと読み込み\n",
    "        f = open('./data/' + d + '/' + file, 'r', encoding='utf-8')\n",
    "        text = f.read()\n",
    "        \n",
    "        # 正規表現で不要な文字列を除去して表示\n",
    "        reg_text = re.sub(r'[0-9a-zA-Z]+', '', text)\n",
    "        reg_text = re.sub(r'[:;/+\\.-]', '', reg_text)\n",
    "        reg_text = re.sub(r'[\\s\\n]', '', reg_text)\n",
    "        \n",
    "        # 分かち書きして単語をリストへ格納\n",
    "        wakati.append(t.tokenize(reg_text))\n",
    "        \n",
    "        # 記事ごとにラベルの格納\n",
    "        label.append(i)\n",
    "        \n",
    "        # ファイルクローズ\n",
    "        f.close()"
   ]
  },
  {
   "cell_type": "code",
   "execution_count": 3,
   "metadata": {},
   "outputs": [
    {
     "name": "stdout",
     "output_type": "stream",
     "text": [
      "400\n",
      "['旧式', 'で', '禁断', 'の', 'パワーアップ', '！', '最新', 'や', 'ソフト', 'を', '一挙', 'に', 'チェック', '【', 'フラッシュ', 'バック', '】', 'テレビ', 'や', 'と', '連携', 'できる', 'パソコン', 'や', '、', 'プロセッサ', 'や', '切り替わる', 'パソコン', 'など', '、', '面白い', 'パソコン', 'が', '次', 'から', '次', 'へ', 'と', '登場', 'し', 'た', '。', '旧式', 'の', '禁断', 'と', 'も', 'いえる', 'パワーアップ', '方法', 'から', '、', 'の', '最新', '、', '話題', 'の', '、', '新', 'セキュリティ', 'ソフト', 'まで', '一挙', 'に', '紹介', 'しよ', 'う', '。', '■', 'インテル', 'を', 'に', '装着', '！', '旧式', 'は', 'どれ', 'ほど', '高速', '化', 'する', 'の', 'か', '(', '上', ')', 'インテル', 'が', '最新', '「', 'シリーズ', '」', 'を', '発売', 'し', 'た', '。', '現行', 'の', '中', 'でも', 'トップクラス', 'の', '性能', 'を', '誇る', '同', '製品', 'を', '、', '旧型', 'の', '高速', '化', 'を', '図る', 'という', 'ポイント', 'で', 'レビュー', 'し', 'て', 'み', 'た', '。', '少し', '風変わり', 'な', 'レビュー', 'と', 'なる', 'が', '、', 'どの', '程度', 'の', '効果', 'が', 'ある', 'か', '、', '期待', '大', 'で', 'ある', '。', '■', 'は', '使用', 'する', 'が', '(', 'インテル', 'など', ')', 'から', 'に', '切り替わる', 'ハイブリッド', 'な', 'だが', '、', 'これ', 'と', '同時に', 'も', '切り替わる', '。', '■', '初期', '費用', '、', '更新', '費用', 'とも', 'に', '無料', '！', 'ジャストシステム', '、', 'ヤモリ', 'が', '目印', 'の', 'セキュリティ', 'ソフト', '現在', 'で', 'は', '、', '多く', 'の', 'ユーザー', 'が', 'パソコン', 'に', 'セキュリティ', 'ソフト', 'を', '導入', 'し', 'て', 'いる', 'が', '、', 'その', '過半数', 'は', '毎年', ',', '円', '程度', 'かかる', '更新', '費用', 'や', 'その', '手続き', 'について', '不満', 'を', '持っ', 'て', 'いる', '。', '有料', 'ソフト', 'を', '利用', 'する', 'ユーザー', 'の', '約', '割', 'は', '無料', 'の', 'セキュリティ', 'ソフト', 'を', '知っ', 'て', 'いる', 'に', 'も', 'かかわら', 'ず', '、', '性能', '面', 'で', '劣る', 'の', 'で', 'は', 'という', '不安', 'から', '導入', 'を', '控え', 'て', 'いる', 'という', '状況', 'に', 'ある', '。', '■', 'テレビ', 'の', '新しい', '楽しみ', '方', 'を', '提案', '！', 'の', '春', 'は', 'と', 'の', '連携', 'は', '年月日', '、', '個人', '向け', 'デスク', 'トップ', 'パソコン', '「', '」', 'シリーズ', 'タイプ', 'モデル', 'を', '月日', 'より', '販売', 'する', 'と', '発表', 'し', 'た', '。', '新', '商品', 'で', 'は', '、', 'より', 'パワフル', 'に', 'なっ', 'た', '録画', '機能', 'に', '加え', '、', '視聴', '・', '録画', '機能', 'に', '業界', 'で', '初めて', '人気', 'の', 'を', '連携', 'さ', 'せ', 'た', '「', 'つぶやき', 'プラス', '」', 'を', '追加', 'する', 'など', '、', 'パソコン', 'ならでは', 'の', '機能', 'を', '搭載', '。', 'スマート', 'フォン', '、', 'ホーム', 'ネットワーク', '対応', 'も', '強化', 'し', '、', '「', '安心', '・', '簡単', '・', '快適', '」', 'な', 'デジタル', 'エンターテイメント', 'の', '提案', 'として', '、', '主要', 'モデル', 'に対し', '以下', 'の', '強化', 'を', '行っ', 'た', '。', '■', 'まるで', 'お', '祭り', 'の', '出荷', '式', '！', 'レッツ', 'ノート', 'の', '出荷', 'が', '始まる', '月日', 'に', '発売', 'さ', 'れる', '’', 'の', '出荷', '式', 'が', '月日', 'に', '国内', '製造', '拠点', 'の', '神戸', '工場', 'で', '行わ', 'れ', 'た', '。', '同社', 'の', 'パソコン', 'として', '初めて', 'と', 'なる', '出荷', '式', 'で', '、', 'この', '製品', 'へ', 'の', '力', 'の', '入れ', 'よう', 'が', 'わかる', '。', '【', 'エプソン', '純正', 'インク', '】', 'インク', 'カートリッジ', '色', 'セット', 'エプソン', '販売元', '：', 'クチコミ', 'を', '見る']\n",
      "0\n"
     ]
    }
   ],
   "source": [
    "# リストのサイズ確認\n",
    "print(len(wakati))\n",
    "# 1つ目の記事の単語を確認\n",
    "print(wakati[0])\n",
    "# 1つ目の記事のラベルを確認\n",
    "print(label[0])"
   ]
  },
  {
   "cell_type": "markdown",
   "metadata": {},
   "source": [
    "#### 単語の数値化"
   ]
  },
  {
   "cell_type": "code",
   "execution_count": 4,
   "metadata": {},
   "outputs": [
    {
     "name": "stdout",
     "output_type": "stream",
     "text": [
      "15579\n",
      "   0\n",
      "0  の\n",
      "1  、\n",
      "2  を\n",
      "3  。\n",
      "4  に\n"
     ]
    }
   ],
   "source": [
    "import itertools\n",
    "from collections import Counter\n",
    "import pandas as pd\n",
    "\n",
    "# 単語の出現数をカウント\n",
    "word_freq = Counter(itertools.chain(* wakati))\n",
    "\n",
    "# 単語を出現数降順で並べ替え\n",
    "dic = []\n",
    "for word_uniq in word_freq.most_common():\n",
    "    dic.append(word_uniq[0])\n",
    "\n",
    "# 単語数を確認\n",
    "print(len(dic))\n",
    "# 出現数の多い単語を5つ確認\n",
    "print(pd.DataFrame(dic).head())"
   ]
  },
  {
   "cell_type": "code",
   "execution_count": 5,
   "metadata": {},
   "outputs": [
    {
     "name": "stdout",
     "output_type": "stream",
     "text": [
      "15579\n"
     ]
    }
   ],
   "source": [
    "# 単語にIDを付与し辞書を作成\n",
    "dic_inv = {}\n",
    "for i, word_uniq in enumerate(dic, start=1):\n",
    "    dic_inv.update({word_uniq: i})\n",
    "    \n",
    "# 辞書の長さを確認\n",
    "print(len(dic_inv))"
   ]
  },
  {
   "cell_type": "code",
   "execution_count": 6,
   "metadata": {},
   "outputs": [
    {
     "name": "stdout",
     "output_type": "stream",
     "text": [
      "400\n",
      "[1988, 10, 2378, 1, 3021, 27, 202, 35, 380, 3, 2552, 5, 273, 59, 2379, 1511, 56, 277, 35, 11, 1118, 48, 195, 35, 2, 2553, 35, 4760, 195, 50, 2, 874, 195, 6, 419, 30, 419, 77, 11, 97, 12, 9, 4, 1988, 1, 2378, 11, 17, 1438, 3021, 260, 30, 2, 1, 202, 2, 173, 1, 2, 167, 342, 380, 67, 2552, 5, 168, 229, 40, 4, 37, 355, 3, 5, 403, 27, 1988, 7, 821, 312, 363, 113, 19, 1, 32, 196, 177, 287, 355, 6, 202, 14, 104, 15, 3, 107, 12, 9, 4, 3660, 1, 64, 93, 6914, 1, 456, 3, 1766, 335, 90, 3, 2, 2380, 1, 363, 113, 3, 4761, 44, 822, 10, 608, 12, 8, 210, 9, 4, 725, 9218, 16, 608, 11, 45, 6, 2, 336, 763, 1, 682, 6, 33, 32, 2, 546, 83, 10, 33, 4, 37, 7, 280, 19, 6, 196, 355, 50, 287, 30, 5, 4760, 1694, 16, 1383, 2, 98, 11, 683, 17, 4760, 4, 37, 1597, 4120, 2, 1989, 4120, 1155, 5, 370, 27, 9219, 2, 9220, 6, 6915, 1, 342, 380, 321, 10, 7, 2, 295, 1, 191, 6, 195, 5, 342, 380, 3, 1268, 12, 8, 18, 6, 2, 60, 6916, 7, 5620, 322, 121, 763, 1990, 1989, 4120, 35, 60, 6917, 128, 4121, 3, 384, 8, 18, 4, 1870, 380, 3, 154, 19, 191, 1, 296, 1512, 7, 370, 1, 342, 380, 3, 315, 8, 18, 5, 17, 5621, 204, 2, 456, 980, 10, 5622, 1, 10, 7, 44, 2107, 30, 1268, 3, 3314, 8, 18, 44, 503, 5, 33, 4, 37, 277, 1, 305, 520, 211, 3, 1767, 27, 1, 1598, 7, 11, 1, 1118, 7, 149, 2, 981, 274, 848, 504, 195, 14, 15, 104, 667, 200, 3, 70, 65, 475, 19, 11, 235, 12, 9, 4, 167, 702, 10, 7, 2, 65, 6918, 5, 47, 9, 1991, 101, 5, 668, 2, 599, 13, 1991, 101, 5, 2230, 10, 560, 217, 1, 3, 1118, 21, 136, 9, 14, 1012, 3661, 15, 3, 726, 19, 50, 2, 195, 2554, 1, 101, 3, 135, 4, 183, 241, 2, 2108, 823, 95, 17, 1384, 12, 2, 14, 1439, 13, 290, 13, 323, 15, 16, 224, 1695, 1, 1767, 63, 2, 1871, 200, 1696, 512, 1, 1384, 3, 359, 9, 4, 37, 1325, 141, 2555, 1, 875, 649, 27, 650, 264, 1, 875, 6, 1119, 70, 5, 107, 21, 53, 4122, 1, 875, 649, 6, 70, 5, 1156, 3315, 2231, 1, 4762, 1157, 10, 313, 26, 9, 4, 609, 1, 195, 63, 560, 11, 45, 875, 649, 10, 2, 51, 90, 77, 1, 333, 1, 561, 46, 6, 727, 4, 59, 2556, 1047, 939, 56, 939, 4123, 537, 571, 2556, 328, 34, 242, 3, 73]\n"
     ]
    }
   ],
   "source": [
    "# 練習問題4\n",
    "# 単語をIDへ変換\n",
    "wakati_id = [ [ dic_inv[word] for word in waka ] for waka in wakati ]\n",
    "\n",
    "# リストのサイズ確認\n",
    "print(len(wakati_id))\n",
    "# 1つ目の記事の単語IDを確認\n",
    "print(wakati_id[0])"
   ]
  },
  {
   "cell_type": "code",
   "execution_count": 8,
   "metadata": {},
   "outputs": [
    {
     "name": "stdout",
     "output_type": "stream",
     "text": [
      "Collecting keras\n",
      "\u001b[?25l  Downloading https://files.pythonhosted.org/packages/5e/10/aa32dad071ce52b5502266b5c659451cfd6ffcbf14e6c8c4f16c0ff5aaab/Keras-2.2.4-py2.py3-none-any.whl (312kB)\n",
      "\u001b[K    100% |████████████████████████████████| 317kB 5.9MB/s \n",
      "\u001b[?25hCollecting keras-preprocessing>=1.0.5 (from keras)\n",
      "  Downloading https://files.pythonhosted.org/packages/fc/94/74e0fa783d3fc07e41715973435dd051ca89c550881b3454233c39c73e69/Keras_Preprocessing-1.0.5-py2.py3-none-any.whl\n",
      "Requirement already satisfied: pyyaml in /srv/conda/lib/python3.6/site-packages (from keras) (3.13)\n",
      "Collecting keras-applications>=1.0.6 (from keras)\n",
      "\u001b[?25l  Downloading https://files.pythonhosted.org/packages/3f/c4/2ff40221029f7098d58f8d7fb99b97e8100f3293f9856f0fb5834bef100b/Keras_Applications-1.0.6-py2.py3-none-any.whl (44kB)\n",
      "\u001b[K    100% |████████████████████████████████| 51kB 5.6MB/s \n",
      "\u001b[?25hRequirement already satisfied: six>=1.9.0 in /srv/conda/lib/python3.6/site-packages (from keras) (1.12.0)\n",
      "Requirement already satisfied: scipy>=0.14 in /srv/conda/lib/python3.6/site-packages (from keras) (1.1.0)\n",
      "Requirement already satisfied: h5py in /srv/conda/lib/python3.6/site-packages (from keras) (2.8.0)\n",
      "Requirement already satisfied: numpy>=1.9.1 in /srv/conda/lib/python3.6/site-packages (from keras) (1.15.2)\n",
      "Installing collected packages: keras-preprocessing, keras-applications, keras\n",
      "Successfully installed keras-2.2.4 keras-applications-1.0.6 keras-preprocessing-1.0.5\n"
     ]
    }
   ],
   "source": [
    "# Kerasのインストール\n",
    "!pip install keras"
   ]
  },
  {
   "cell_type": "code",
   "execution_count": 7,
   "metadata": {},
   "outputs": [
    {
     "name": "stdout",
     "output_type": "stream",
     "text": [
      "[1988   10 2378 ...    0    0    0]\n"
     ]
    }
   ],
   "source": [
    "from keras.preprocessing import sequence\n",
    "import numpy as np\n",
    "\n",
    "# 可変長から固定長へ変換\n",
    "wakati_id = sequence.pad_sequences(np.array(wakati_id), maxlen=3382, padding=\"post\", truncating=\"post\")\n",
    "\n",
    "# labelをNumpy配列へ変換\n",
    "label = np.array(label)\n",
    "\n",
    "# 1つ目の記事の単語IDを確認\n",
    "print(wakati_id[0])"
   ]
  }
 ],
 "metadata": {
  "kernelspec": {
   "display_name": "Python 3",
   "language": "python",
   "name": "python3"
  },
  "language_info": {
   "codemirror_mode": {
    "name": "ipython",
    "version": 3
   },
   "file_extension": ".py",
   "mimetype": "text/x-python",
   "name": "python",
   "nbconvert_exporter": "python",
   "pygments_lexer": "ipython3",
   "version": "3.6.8"
  }
 },
 "nbformat": 4,
 "nbformat_minor": 2
}
