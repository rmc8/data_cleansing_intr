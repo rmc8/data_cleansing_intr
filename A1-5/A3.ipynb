{
 "cells": [
  {
   "cell_type": "markdown",
   "metadata": {},
   "source": [
    "### 7-3．深層学習のためのデータ準備\n",
    "#### 全記事の分かち書き"
   ]
  },
  {
   "cell_type": "code",
   "execution_count": 1,
   "metadata": {},
   "outputs": [
    {
     "name": "stdout",
     "output_type": "stream",
     "text": [
      "Collecting janome\n",
      "  Downloading https://files.pythonhosted.org/packages/a0/af/a57956e98b26beebc4efe20c3f5b482f0b4e091f546bfd90a96678da2f1c/Janome-0.3.7-py27.py3-none-any.whl (20.7MB)\n",
      "Installing collected packages: janome\n",
      "Successfully installed janome-0.3.7\n"
     ]
    }
   ],
   "source": [
    "# Janomeのインストール\n",
    "!pip install janome"
   ]
  },
  {
   "cell_type": "code",
   "execution_count": 1,
   "metadata": {},
   "outputs": [],
   "source": [
    "import os\n",
    "import re\n",
    "from janome.tokenizer import Tokenizer\n",
    "from janome.analyzer import Analyzer\n",
    "from janome.tokenfilter import POSKeepFilter\n",
    "\n",
    "# 記事フォルダの指定\n",
    "dirs = ['it-life-hack', 'movie-enter']\n",
    "\n",
    "# 単語とラベルを格納するリストを生成\n",
    "tmp = []\n",
    "wakati = [] # 説明変数\n",
    "label = [] # 目的変数\n",
    "\n",
    "# 分かち書きオブジェクト生成\n",
    "#t = Tokenizer(wakati=True)\n",
    "\n",
    "# 形態素解析の準備\n",
    "# オブジェクト生成\n",
    "t = Tokenizer()\n",
    "# 名詞の単語のみ抽出するフィルターを生成\n",
    "token_filters = [POSKeepFilter(['名詞'])]\n",
    "# フィルターを搭載した解析フレームワークの生成\n",
    "a = Analyzer([], t, token_filters)\n",
    "\n",
    "# 各フォルダのファイルを1つずつ読み込んで表示\n",
    "for i, d in enumerate(dirs):\n",
    "    # ファイルの取得\n",
    "    files = os.listdir('./data/' + d)\n",
    "    \n",
    "    for file in files:\n",
    "        # ファイルオープンと読み込み\n",
    "        f = open('./data/' + d + '/' + file, 'r', encoding='utf-8')\n",
    "        text = f.read()\n",
    "        \n",
    "        # 正規表現で不要な文字列を除去して表示\n",
    "        reg_text = re.sub(r'[0-9a-zA-Z]+', '', text)\n",
    "        reg_text = re.sub(r'[:;/+\\.-]', '', reg_text)\n",
    "        reg_text = re.sub(r'[\\s\\n]', '', reg_text)\n",
    "        \n",
    "        # 分かち書きして単語をリストへ格納\n",
    "        #wakati.append(t.tokenize(reg_text))\n",
    "        for token in a.analyze(reg_text):\n",
    "            tmp.append(token.surface)\n",
    "        wakati.append(tmp)\n",
    "        tmp = []\n",
    "        \n",
    "        # 記事ごとにラベルの格納\n",
    "        label.append(i)\n",
    "        \n",
    "        # ファイルクローズ\n",
    "        f.close()"
   ]
  },
  {
   "cell_type": "code",
   "execution_count": 3,
   "metadata": {},
   "outputs": [
    {
     "name": "stdout",
     "output_type": "stream",
     "text": [
      "400\n",
      "['旧式', '禁断', 'パワーアップ', '最新', 'ソフト', '一挙', 'チェック', 'フラッシュ', 'バック', 'テレビ', '連携', 'パソコン', 'プロセッサ', 'パソコン', 'パソコン', '次', '次', '登場', '旧式', '禁断', 'パワーアップ', '方法', '最新', '話題', 'セキュリティ', 'ソフト', '一挙', '紹介', 'インテル', '装着', '旧式', 'どれ', '高速', '化', 'の', '(', '上', ')', 'インテル', '最新', 'シリーズ', '発売', '現行', '中', 'トップクラス', '性能', '製品', '旧型', '高速', '化', 'ポイント', 'レビュー', '風変わり', 'レビュー', '程度', '効果', '期待', '大', '使用', '(', 'インテル', ')', 'ハイブリッド', 'これ', '初期', '費用', '更新', '費用', 'とも', '無料', 'ジャストシステム', 'ヤモリ', '目印', 'セキュリティ', 'ソフト', '現在', '多く', 'ユーザー', 'パソコン', 'セキュリティ', 'ソフト', '導入', '過半数', '毎年', ',', '円', '程度', '更新', '費用', '手続き', '不満', '有料', 'ソフト', '利用', 'ユーザー', '割', '無料', 'セキュリティ', 'ソフト', '性能', '面', 'の', '不安', '導入', '状況', 'テレビ', '方', '提案', '春', '連携', '年月日', '個人', '向け', 'デスク', 'トップ', 'パソコン', 'シリーズ', 'タイプ', 'モデル', '月日', '販売', '発表', '商品', 'パワフル', '録画', '機能', '視聴', '録画', '機能', '業界', '人気', 'の', '連携', 'つぶやき', 'プラス', '追加', 'パソコン', 'ならでは', '機能', '搭載', 'スマート', 'フォン', 'ホーム', 'ネットワーク', '対応', '強化', '安心', '簡単', '快適', 'デジタル', 'エンターテイメント', '提案', '主要', 'モデル', '以下', '強化', '祭り', '出荷', '式', 'レッツ', 'ノート', '出荷', '月日', '発売', '出荷', '式', '月日', '国内', '製造', '拠点', '神戸', '工場', '同社', 'パソコン', '出荷', '式', '製品', '力', 'よう', 'エプソン', '純正', 'インク', 'インク', 'カートリッジ', '色', 'セット', 'エプソン', '販売元', 'クチコミ']\n",
      "0\n"
     ]
    }
   ],
   "source": [
    "# リストのサイズ確認\n",
    "print(len(wakati))\n",
    "# 1つ目の記事の単語を確認\n",
    "print(wakati[0])\n",
    "# 1つ目の記事のラベルを確認\n",
    "print(label[0])"
   ]
  },
  {
   "cell_type": "markdown",
   "metadata": {},
   "source": [
    "#### 単語の数値化"
   ]
  },
  {
   "cell_type": "code",
   "execution_count": 4,
   "metadata": {},
   "outputs": [
    {
     "name": "stdout",
     "output_type": "stream",
     "text": [
      "11539\n",
      "    0\n",
      "0  こと\n",
      "1   の\n",
      "2  映画\n",
      "3   人\n",
      "4  よう\n"
     ]
    }
   ],
   "source": [
    "import itertools\n",
    "from collections import Counter\n",
    "import pandas as pd\n",
    "\n",
    "# 単語の出現数をカウント\n",
    "word_freq = Counter(itertools.chain(* wakati))\n",
    "\n",
    "# 単語を出現数降順で並べ替え\n",
    "dic = []\n",
    "for word_uniq in word_freq.most_common():\n",
    "    dic.append(word_uniq[0])\n",
    "\n",
    "# 単語数を確認\n",
    "print(len(dic))\n",
    "# 出現数の多い単語を5つ確認\n",
    "print(pd.DataFrame(dic).head())"
   ]
  },
  {
   "cell_type": "code",
   "execution_count": 5,
   "metadata": {},
   "outputs": [
    {
     "name": "stdout",
     "output_type": "stream",
     "text": [
      "11539\n"
     ]
    }
   ],
   "source": [
    "# 単語にIDを付与し辞書を作成\n",
    "dic_inv = {}\n",
    "for i, word_uniq in enumerate(dic, start=1):\n",
    "    dic_inv.update({word_uniq: i})\n",
    "    \n",
    "# 辞書の長さを確認\n",
    "print(len(dic_inv))"
   ]
  },
  {
   "cell_type": "code",
   "execution_count": 6,
   "metadata": {},
   "outputs": [
    {
     "name": "stdout",
     "output_type": "stream",
     "text": [
      "400\n",
      "[1456, 1751, 2228, 97, 232, 2045, 152, 1752, 1077, 155, 768, 90, 1882, 90, 90, 255, 255, 29, 1456, 1751, 2228, 141, 97, 77, 200, 232, 2045, 75, 212, 246, 1456, 566, 219, 42, 2, 92, 79, 164, 212, 97, 35, 37, 2712, 11, 5130, 282, 23, 1753, 219, 42, 567, 403, 6850, 403, 513, 458, 348, 2229, 158, 92, 212, 164, 1228, 30, 1144, 3055, 1457, 3055, 2448, 225, 6851, 6852, 5131, 200, 232, 184, 266, 86, 90, 200, 232, 885, 5132, 4153, 185, 47, 513, 1457, 3055, 5133, 3056, 1363, 232, 67, 86, 1078, 225, 200, 232, 282, 679, 2, 1544, 885, 315, 155, 106, 1277, 1145, 768, 62, 680, 231, 589, 316, 90, 35, 447, 95, 13, 298, 122, 472, 5134, 1458, 33, 395, 1458, 33, 1642, 110, 2, 768, 699, 2713, 490, 90, 1883, 33, 54, 80, 126, 1545, 568, 27, 974, 1022, 167, 186, 114, 1229, 1277, 1364, 95, 324, 974, 1884, 609, 431, 432, 145, 609, 13, 37, 609, 431, 13, 795, 2449, 1643, 3532, 796, 404, 90, 609, 431, 23, 194, 5, 1885, 721, 650, 650, 3057, 342, 370, 1885, 191, 127]\n"
     ]
    }
   ],
   "source": [
    "# 練習問題4\n",
    "# 単語をIDへ変換\n",
    "wakati_id = [ [ dic_inv[word] for word in waka ] for waka in wakati ]\n",
    "\n",
    "# リストのサイズ確認\n",
    "print(len(wakati_id))\n",
    "# 1つ目の記事の単語IDを確認\n",
    "print(wakati_id[0])"
   ]
  },
  {
   "cell_type": "code",
   "execution_count": 8,
   "metadata": {},
   "outputs": [
    {
     "name": "stdout",
     "output_type": "stream",
     "text": [
      "Collecting keras\n",
      "\u001b[?25l  Downloading https://files.pythonhosted.org/packages/5e/10/aa32dad071ce52b5502266b5c659451cfd6ffcbf14e6c8c4f16c0ff5aaab/Keras-2.2.4-py2.py3-none-any.whl (312kB)\n",
      "\u001b[K    100% |████████████████████████████████| 317kB 5.9MB/s \n",
      "\u001b[?25hCollecting keras-preprocessing>=1.0.5 (from keras)\n",
      "  Downloading https://files.pythonhosted.org/packages/fc/94/74e0fa783d3fc07e41715973435dd051ca89c550881b3454233c39c73e69/Keras_Preprocessing-1.0.5-py2.py3-none-any.whl\n",
      "Requirement already satisfied: pyyaml in /srv/conda/lib/python3.6/site-packages (from keras) (3.13)\n",
      "Collecting keras-applications>=1.0.6 (from keras)\n",
      "\u001b[?25l  Downloading https://files.pythonhosted.org/packages/3f/c4/2ff40221029f7098d58f8d7fb99b97e8100f3293f9856f0fb5834bef100b/Keras_Applications-1.0.6-py2.py3-none-any.whl (44kB)\n",
      "\u001b[K    100% |████████████████████████████████| 51kB 5.6MB/s \n",
      "\u001b[?25hRequirement already satisfied: six>=1.9.0 in /srv/conda/lib/python3.6/site-packages (from keras) (1.12.0)\n",
      "Requirement already satisfied: scipy>=0.14 in /srv/conda/lib/python3.6/site-packages (from keras) (1.1.0)\n",
      "Requirement already satisfied: h5py in /srv/conda/lib/python3.6/site-packages (from keras) (2.8.0)\n",
      "Requirement already satisfied: numpy>=1.9.1 in /srv/conda/lib/python3.6/site-packages (from keras) (1.15.2)\n",
      "Installing collected packages: keras-preprocessing, keras-applications, keras\n",
      "Successfully installed keras-2.2.4 keras-applications-1.0.6 keras-preprocessing-1.0.5\n"
     ]
    }
   ],
   "source": [
    "# Kerasのインストール\n",
    "!pip install keras"
   ]
  },
  {
   "cell_type": "code",
   "execution_count": 7,
   "metadata": {},
   "outputs": [
    {
     "name": "stderr",
     "output_type": "stream",
     "text": [
      "Using TensorFlow backend.\n"
     ]
    },
    {
     "name": "stdout",
     "output_type": "stream",
     "text": [
      "[1456 1751 2228   97  232 2045  152 1752 1077  155  768   90 1882   90\n",
      "   90  255  255   29 1456 1751 2228  141   97   77  200  232 2045   75\n",
      "  212  246 1456  566  219   42    2   92   79  164  212   97   35   37\n",
      " 2712   11 5130  282   23 1753  219   42  567  403 6850  403  513  458\n",
      "  348 2229  158   92  212  164 1228   30 1144 3055 1457 3055 2448  225\n",
      " 6851 6852 5131  200  232  184  266   86   90  200  232  885 5132 4153\n",
      "  185   47  513 1457 3055 5133 3056 1363  232   67   86 1078  225  200\n",
      "  232  282  679    2 1544  885  315  155  106 1277 1145  768   62  680\n",
      "  231  589  316   90   35  447   95   13  298  122  472 5134 1458   33\n",
      "  395 1458   33 1642  110    2  768  699 2713  490   90 1883   33   54\n",
      "   80  126 1545  568   27  974 1022  167  186  114 1229 1277 1364   95\n",
      "  324  974 1884  609  431  432  145  609   13   37  609  431   13  795\n",
      " 2449 1643 3532  796  404   90  609  431   23  194    5 1885  721  650\n",
      "  650 3057  342  370 1885  191  127    0    0    0    0    0    0    0\n",
      "    0    0    0    0    0    0    0    0    0    0    0    0    0    0\n",
      "    0    0    0    0    0    0    0    0    0    0    0    0    0    0\n",
      "    0    0    0    0    0    0    0    0    0    0    0    0    0    0\n",
      "    0    0    0    0    0    0    0    0    0    0    0    0    0    0\n",
      "    0    0    0    0    0    0    0    0    0    0    0    0    0    0\n",
      "    0    0    0    0    0    0    0    0    0    0    0    0    0    0\n",
      "    0    0    0    0    0    0    0    0    0    0    0    0    0    0\n",
      "    0    0    0    0    0    0    0    0    0    0    0    0    0    0\n",
      "    0    0    0    0    0    0    0    0    0    0    0    0    0    0\n",
      "    0    0    0    0    0    0    0    0    0    0    0    0    0    0\n",
      "    0    0    0    0    0    0    0    0    0    0    0    0    0    0\n",
      "    0    0    0    0    0    0    0    0    0    0    0    0    0    0\n",
      "    0    0    0    0    0    0    0    0    0    0    0    0    0    0\n",
      "    0    0    0    0    0    0    0    0    0    0    0    0    0    0\n",
      "    0    0    0    0    0    0    0]\n"
     ]
    }
   ],
   "source": [
    "from keras.preprocessing import sequence\n",
    "import numpy as np\n",
    "\n",
    "# 可変長から固定長へ変換\n",
    "wakati_id = sequence.pad_sequences(np.array(wakati_id), maxlen=399, padding=\"post\", truncating=\"post\")\n",
    "\n",
    "# labelをNumpy配列へ変換\n",
    "label = np.array(label)\n",
    "\n",
    "# 1つ目の記事の単語IDを確認\n",
    "print(wakati_id[0])"
   ]
  },
  {
   "cell_type": "markdown",
   "metadata": {},
   "source": [
    "##### === モデル作成はここから ======================"
   ]
  },
  {
   "cell_type": "code",
   "execution_count": 8,
   "metadata": {},
   "outputs": [
    {
     "name": "stdout",
     "output_type": "stream",
     "text": [
      "_________________________________________________________________\n",
      "Layer (type)                 Output Shape              Param #   \n",
      "=================================================================\n",
      "embedding_1 (Embedding)      (None, 399, 512)          5908480   \n",
      "_________________________________________________________________\n",
      "lstm_1 (LSTM)                (None, 128)               328192    \n",
      "_________________________________________________________________\n",
      "dense_1 (Dense)              (None, 1)                 129       \n",
      "=================================================================\n",
      "Total params: 6,236,801\n",
      "Trainable params: 6,236,801\n",
      "Non-trainable params: 0\n",
      "_________________________________________________________________\n"
     ]
    }
   ],
   "source": [
    "from keras.models import Sequential\n",
    "from keras.layers import Embedding, LSTM, Dense\n",
    "\n",
    "model = Sequential()\n",
    "# \n",
    "model.add(Embedding(11540, 512, input_length=399))\n",
    "# \n",
    "model.add(LSTM(128, dropout=0.5))\n",
    "# \n",
    "model.add(Dense(1, activation='sigmoid'))\n",
    "\n",
    "# \n",
    "model.summary()"
   ]
  },
  {
   "cell_type": "code",
   "execution_count": 9,
   "metadata": {},
   "outputs": [
    {
     "name": "stdout",
     "output_type": "stream",
     "text": [
      "Train on 320 samples, validate on 80 samples\n",
      "Epoch 1/30\n",
      "320/320 [==============================] - 15s 47ms/step - loss: 0.6753 - acc: 0.6219 - val_loss: 1.0010 - val_acc: 0.0250\n",
      "Epoch 2/30\n",
      "320/320 [==============================] - 11s 35ms/step - loss: 0.6490 - acc: 0.6937 - val_loss: 0.8826 - val_acc: 0.1125\n",
      "Epoch 3/30\n",
      "320/320 [==============================] - 11s 35ms/step - loss: 0.6452 - acc: 0.7031 - val_loss: 1.0383 - val_acc: 0.1250\n",
      "Epoch 4/30\n",
      "320/320 [==============================] - 11s 35ms/step - loss: 0.6364 - acc: 0.7031 - val_loss: 1.0383 - val_acc: 0.1750\n",
      "Epoch 5/30\n",
      "320/320 [==============================] - 11s 35ms/step - loss: 0.6266 - acc: 0.7031 - val_loss: 1.0311 - val_acc: 0.1750\n",
      "Epoch 6/30\n",
      "320/320 [==============================] - 12s 39ms/step - loss: 0.6143 - acc: 0.7031 - val_loss: 1.0000 - val_acc: 0.2000\n",
      "Epoch 7/30\n",
      "320/320 [==============================] - 15s 48ms/step - loss: 0.5996 - acc: 0.7000 - val_loss: 0.8992 - val_acc: 0.2250\n",
      "Epoch 8/30\n",
      "320/320 [==============================] - 14s 44ms/step - loss: 0.5864 - acc: 0.7094 - val_loss: 0.9596 - val_acc: 0.2250\n",
      "Epoch 9/30\n",
      "320/320 [==============================] - 15s 47ms/step - loss: 0.5774 - acc: 0.7094 - val_loss: 0.9047 - val_acc: 0.2375\n",
      "Epoch 10/30\n",
      "320/320 [==============================] - 13s 41ms/step - loss: 0.6198 - acc: 0.7031 - val_loss: 0.9849 - val_acc: 0.2625\n",
      "Epoch 11/30\n",
      "320/320 [==============================] - 15s 46ms/step - loss: 0.5831 - acc: 0.7094 - val_loss: 1.1710 - val_acc: 0.1750\n",
      "Epoch 12/30\n",
      "320/320 [==============================] - 15s 47ms/step - loss: 0.5953 - acc: 0.7031 - val_loss: 1.0561 - val_acc: 0.1750\n",
      "Epoch 13/30\n",
      "320/320 [==============================] - 14s 44ms/step - loss: 0.5883 - acc: 0.7031 - val_loss: 0.9998 - val_acc: 0.1750\n",
      "Epoch 14/30\n",
      "320/320 [==============================] - 14s 45ms/step - loss: 0.5798 - acc: 0.7031 - val_loss: 0.9674 - val_acc: 0.1875\n",
      "Epoch 15/30\n",
      "320/320 [==============================] - 15s 46ms/step - loss: 0.5736 - acc: 0.7031 - val_loss: 0.9834 - val_acc: 0.1875\n",
      "Epoch 16/30\n",
      "320/320 [==============================] - 13s 40ms/step - loss: 0.5707 - acc: 0.7031 - val_loss: 0.9342 - val_acc: 0.2125\n",
      "Epoch 17/30\n",
      "320/320 [==============================] - 14s 43ms/step - loss: 0.5685 - acc: 0.7062 - val_loss: 0.8351 - val_acc: 0.2375\n",
      "Epoch 18/30\n",
      "320/320 [==============================] - 15s 46ms/step - loss: 0.5614 - acc: 0.7094 - val_loss: 0.8329 - val_acc: 0.2375\n",
      "Epoch 19/30\n",
      "320/320 [==============================] - 14s 45ms/step - loss: 0.5576 - acc: 0.7156 - val_loss: 0.8800 - val_acc: 0.3000\n",
      "Epoch 20/30\n",
      "320/320 [==============================] - 12s 39ms/step - loss: 0.5195 - acc: 0.7531 - val_loss: 0.7741 - val_acc: 0.3750\n",
      "Epoch 21/30\n",
      "320/320 [==============================] - 14s 43ms/step - loss: 0.6340 - acc: 0.7219 - val_loss: 1.1869 - val_acc: 0.2375\n",
      "Epoch 22/30\n",
      "320/320 [==============================] - 14s 45ms/step - loss: 0.5924 - acc: 0.7094 - val_loss: 1.1528 - val_acc: 0.2250\n",
      "Epoch 23/30\n",
      "320/320 [==============================] - 16s 49ms/step - loss: 0.5682 - acc: 0.7094 - val_loss: 0.9546 - val_acc: 0.2375\n",
      "Epoch 24/30\n",
      "320/320 [==============================] - 15s 46ms/step - loss: 0.5595 - acc: 0.7125 - val_loss: 0.8321 - val_acc: 0.2375\n",
      "Epoch 25/30\n",
      "320/320 [==============================] - 13s 41ms/step - loss: 0.5500 - acc: 0.7250 - val_loss: 0.7732 - val_acc: 0.2875\n",
      "Epoch 26/30\n",
      "320/320 [==============================] - 14s 44ms/step - loss: 0.5094 - acc: 0.7656 - val_loss: 0.3511 - val_acc: 0.7250\n",
      "Epoch 27/30\n",
      "320/320 [==============================] - 14s 43ms/step - loss: 0.4335 - acc: 0.9031 - val_loss: 0.0911 - val_acc: 0.9625\n",
      "Epoch 28/30\n",
      "320/320 [==============================] - 14s 43ms/step - loss: 0.2937 - acc: 0.9250 - val_loss: 0.2139 - val_acc: 0.9250\n",
      "Epoch 29/30\n",
      "320/320 [==============================] - 13s 39ms/step - loss: 0.4474 - acc: 0.8094 - val_loss: 0.7595 - val_acc: 0.5750\n",
      "Epoch 30/30\n",
      "320/320 [==============================] - 14s 42ms/step - loss: 0.1617 - acc: 0.9719 - val_loss: 0.0607 - val_acc: 0.9875\n"
     ]
    }
   ],
   "source": [
    "# 学習条件の設定　誤差関数＝2値の交差エントロピー、最適化手法＝Adam法、測定方法＝モデル精度\n",
    "model.compile(loss='binary_crossentropy', optimizer='adam', metrics=['accuracy'])\n",
    "\n",
    "# 学習の実行\n",
    "hist = model.fit(wakati_id, label, batch_size=32, verbose=1, \n",
    "                 epochs=30, validation_split=0.2)"
   ]
  },
  {
   "cell_type": "code",
   "execution_count": 10,
   "metadata": {},
   "outputs": [
    {
     "data": {
      "image/png": "[encoded data removed]",
      "text/plain": [
       "<Figure size 432x288 with 1 Axes>"
      ]
     },
     "metadata": {
      "needs_background": "light"
     },
     "output_type": "display_data"
    }
   ],
   "source": [
    "import matplotlib.pyplot as plt\n",
    "%matplotlib inline\n",
    "\n",
    "# 訓練データとテストデータの誤差の履歴を描画\n",
    "plt.plot(hist.history['loss'])\n",
    "plt.plot(hist.history['val_loss'])\n",
    "plt.ylabel('loss')\n",
    "plt.xlabel('epoch')\n",
    "plt.legend(['train', 'val'], loc='upper right')\n",
    "plt.show()"
   ]
  },
  {
   "cell_type": "code",
   "execution_count": 11,
   "metadata": {},
   "outputs": [
    {
     "data": {
      "image/png": "[encoded data removed]",
      "text/plain": [
       "<Figure size 432x288 with 1 Axes>"
      ]
     },
     "metadata": {
      "needs_background": "light"
     },
     "output_type": "display_data"
    }
   ],
   "source": [
    "# 訓練データとテストデータの精度の履歴を描画\n",
    "plt.plot(hist.history['acc'])\n",
    "plt.plot(hist.history['val_acc'])\n",
    "plt.ylabel('accuracy')\n",
    "plt.xlabel('epoch')\n",
    "plt.legend(['train', 'val'], loc='upper left')\n",
    "plt.show()"
   ]
  },
  {
   "cell_type": "markdown",
   "metadata": {},
   "source": [
    "##### === モデル作成はここまで ======================"
   ]
  },
  {
   "cell_type": "code",
   "execution_count": null,
   "metadata": {},
   "outputs": [],
   "source": []
  }
 ],
 "metadata": {
  "kernelspec": {
   "display_name": "Python 3",
   "language": "python",
   "name": "python3"
  },
  "language_info": {
   "codemirror_mode": {
    "name": "ipython",
    "version": 3
   },
   "file_extension": ".py",
   "mimetype": "text/x-python",
   "name": "python",
   "nbconvert_exporter": "python",
   "pygments_lexer": "ipython3",
   "version": "3.6.8"
  }
 },
 "nbformat": 4,
 "nbformat_minor": 2
}
