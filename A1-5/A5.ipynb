{
 "cells": [
  {
   "cell_type": "markdown",
   "metadata": {},
   "source": [
    "### 7-2．機械学習のためのデータ準備\n",
    "#### 全記事の形態素解析"
   ]
  },
  {
   "cell_type": "code",
   "execution_count": 1,
   "metadata": {},
   "outputs": [
    {
     "name": "stdout",
     "output_type": "stream",
     "text": [
      "Collecting wordcloud\n",
      "  Downloading https://files.pythonhosted.org/packages/dd/57/8fd38e31be7951f9164f4cb3a769159a0c2ef4af0f597ddf09a7e736593e/wordcloud-1.5.0-cp36-cp36m-win_amd64.whl (153kB)\n",
      "Requirement already satisfied: numpy>=1.6.1 in e:\\anaconda3\\envs\\pbook_appx\\lib\\site-packages (from wordcloud) (1.15.4)\n",
      "Collecting pillow (from wordcloud)\n",
      "  Downloading https://files.pythonhosted.org/packages/ec/ca/7af5b6628ecf770645f8cc3c9da3c2bb5c5ffc7384a9ff0666fdb818b4d5/Pillow-5.4.1-cp36-cp36m-win_amd64.whl (1.9MB)\n",
      "Installing collected packages: pillow, wordcloud\n",
      "Successfully installed pillow-5.4.1 wordcloud-1.5.0\n"
     ]
    }
   ],
   "source": [
    "# WordCloudのインストール\n",
    "!pip install wordcloud"
   ]
  },
  {
   "cell_type": "code",
   "execution_count": 1,
   "metadata": {},
   "outputs": [],
   "source": [
    "import os\n",
    "import re\n",
    "from janome.tokenizer import Tokenizer\n",
    "from janome.analyzer import Analyzer\n",
    "from janome.tokenfilter import POSKeepFilter\n",
    "from janome.tokenfilter import TokenCountFilter\n",
    "\n",
    "# 記事フォルダの指定\n",
    "dirs = ['it-life-hack', 'movie-enter']\n",
    "\n",
    "# 単語とラベルを格納するリストを生成\n",
    "docterm = [] # 説明変数\n",
    "label = [] # 目的変数\n",
    "tmp1 = []\n",
    "tmp2 = ''\n",
    "\n",
    "# 形態素解析の準備\n",
    "# オブジェクト生成\n",
    "t = Tokenizer()\n",
    "# 名詞の単語のみ抽出するフィルターを生成\n",
    "token_filters = [POSKeepFilter(['名詞']), TokenCountFilter()]\n",
    "# フィルターを搭載した解析フレームワークの生成\n",
    "a = Analyzer([], t, token_filters)\n",
    "\n",
    "# 各フォルダのファイルを1つずつ読み込んで表示\n",
    "for i, d in enumerate(dirs):\n",
    "    # ファイルの取得\n",
    "    files = os.listdir('./data/' + d)\n",
    "    \n",
    "    for file in files:\n",
    "        # ファイルオープンと読み込み\n",
    "        f = open('./data/' + d + '/' + file, 'r', encoding='utf-8')\n",
    "        text = f.read()\n",
    "        \n",
    "        # 正規表現で不要な文字列を除去して表示\n",
    "        reg_text = re.sub(r'[0-9a-zA-Z]+', '', text)\n",
    "        reg_text = re.sub(r'[:;/+\\.-]', '', reg_text)\n",
    "        reg_text = re.sub(r'[\\s\\n]', '', reg_text)\n",
    "        \n",
    "        # フィルタ付き形態素解析\n",
    "        #for token in a.analyze(reg_text):\n",
    "        #    tmp1.append(token.surface)\n",
    "        #    tmp2 = ' '.join(tmp1)\n",
    "        # 記事ごとに単語を格納\n",
    "        #docterm.append(tmp2)\n",
    "        #tmp1 = []\n",
    "        tokens = a.analyze(reg_text)\n",
    "        for token in tokens:\n",
    "            if token[1] > 5:\n",
    "                tmp1.append(token[0])\n",
    "                tmp2 = ' '.join(tmp1)\n",
    "        docterm.append(tmp2)\n",
    "        tmp1 = []\n",
    "        \n",
    "        # 記事ごとにラベルの格納\n",
    "        label.append(i)\n",
    "        \n",
    "        # ファイルクローズ\n",
    "        f.close()"
   ]
  },
  {
   "cell_type": "code",
   "execution_count": 2,
   "metadata": {},
   "outputs": [
    {
     "data": {
      "text/html": [
       "<div>\n",
       "<style scoped>\n",
       "    .dataframe tbody tr th:only-of-type {\n",
       "        vertical-align: middle;\n",
       "    }\n",
       "\n",
       "    .dataframe tbody tr th {\n",
       "        vertical-align: top;\n",
       "    }\n",
       "\n",
       "    .dataframe thead th {\n",
       "        text-align: right;\n",
       "    }\n",
       "</style>\n",
       "<table border=\"1\" class=\"dataframe\">\n",
       "  <thead>\n",
       "    <tr style=\"text-align: right;\">\n",
       "      <th></th>\n",
       "      <th>0</th>\n",
       "    </tr>\n",
       "  </thead>\n",
       "  <tbody>\n",
       "    <tr>\n",
       "      <th>0</th>\n",
       "      <td>ソフト パソコン</td>\n",
       "    </tr>\n",
       "    <tr>\n",
       "      <th>1</th>\n",
       "      <td>アップル リリース</td>\n",
       "    </tr>\n",
       "    <tr>\n",
       "      <th>2</th>\n",
       "      <td>サービス 終了 電子 書籍 通 コミック コンテンツ こと</td>\n",
       "    </tr>\n",
       "    <tr>\n",
       "      <th>3</th>\n",
       "      <td>ウェブページ 保存 キャプチャ クリック</td>\n",
       "    </tr>\n",
       "    <tr>\n",
       "      <th>4</th>\n",
       "      <td>レノボ</td>\n",
       "    </tr>\n",
       "  </tbody>\n",
       "</table>\n",
       "</div>"
      ],
      "text/plain": [
       "                               0\n",
       "0                       ソフト パソコン\n",
       "1                      アップル リリース\n",
       "2  サービス 終了 電子 書籍 通 コミック コンテンツ こと\n",
       "3           ウェブページ 保存 キャプチャ クリック\n",
       "4                            レノボ"
      ]
     },
     "execution_count": 2,
     "metadata": {},
     "output_type": "execute_result"
    }
   ],
   "source": [
    "import pandas as pd\n",
    "\n",
    "pd.DataFrame(docterm).head()"
   ]
  },
  {
   "cell_type": "code",
   "execution_count": 2,
   "metadata": {},
   "outputs": [
    {
     "name": "stdout",
     "output_type": "stream",
     "text": [
      "ソフト パソコン\n"
     ]
    }
   ],
   "source": [
    "# 1つ目の記事の単語を確認\n",
    "print(docterm[0])"
   ]
  },
  {
   "cell_type": "code",
   "execution_count": 3,
   "metadata": {},
   "outputs": [
    {
     "data": {
      "text/plain": [
       "<wordcloud.wordcloud.WordCloud at 0x26fed9ad470>"
      ]
     },
     "execution_count": 3,
     "metadata": {},
     "output_type": "execute_result"
    }
   ],
   "source": [
    "import matplotlib.pyplot as plt\n",
    "from wordcloud import WordCloud\n",
    "\n",
    "text = ''\n",
    "# 先頭50記事の単語のみ対象\n",
    "for i in range(50):\n",
    "    text = text + docterm[i]\n",
    "\n",
    "# ワードクラウドの生成\n",
    "wc = WordCloud(background_color='white', font_path=r'C:\\Windows\\Fonts\\msgothic.ttc', \n",
    "                      width=800, height=800).generate(text)\n",
    "\n",
    "# ワードクラウドを画像へ出力\n",
    "wc.to_file('it-life-hack_50-articles.png')"
   ]
  }
 ],
 "metadata": {
  "kernelspec": {
   "display_name": "Python 3",
   "language": "python",
   "name": "python3"
  },
  "language_info": {
   "codemirror_mode": {
    "name": "ipython",
    "version": 3
   },
   "file_extension": ".py",
   "mimetype": "text/x-python",
   "name": "python",
   "nbconvert_exporter": "python",
   "pygments_lexer": "ipython3",
   "version": "3.6.8"
  }
 },
 "nbformat": 4,
 "nbformat_minor": 2
}
